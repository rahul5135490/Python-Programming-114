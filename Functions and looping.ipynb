{
 "cells": [
  {
   "cell_type": "code",
   "execution_count": 1,
   "id": "23ddc5e7",
   "metadata": {},
   "outputs": [],
   "source": [
    "def welcome():\n",
    "    print(\"Welcome to my you tube channel\")"
   ]
  },
  {
   "cell_type": "code",
   "execution_count": 4,
   "id": "5ff1063d",
   "metadata": {},
   "outputs": [
    {
     "name": "stdout",
     "output_type": "stream",
     "text": [
      "Welcome to my you tube channel\n",
      "Welcome to my you tube channel\n",
      "Welcome to my you tube channel\n",
      "Welcome to my you tube channel\n",
      "Welcome to my you tube channel\n",
      "Welcome to my you tube channel\n",
      "Welcome to my you tube channel\n",
      "Welcome to my you tube channel\n"
     ]
    }
   ],
   "source": [
    "welcome()\n",
    "welcome()\n",
    "welcome()\n",
    "welcome()\n",
    "welcome()\n",
    "welcome()\n",
    "welcome()\n",
    "welcome()\n"
   ]
  },
  {
   "cell_type": "code",
   "execution_count": 5,
   "id": "f82db0c5",
   "metadata": {},
   "outputs": [],
   "source": [
    "def welcome():\n",
    "    return (\"Welcome to my you tube channel\")"
   ]
  },
  {
   "cell_type": "code",
   "execution_count": 6,
   "id": "ef8f6b0b",
   "metadata": {},
   "outputs": [
    {
     "data": {
      "text/plain": [
       "'Welcome to my you tube channel'"
      ]
     },
     "execution_count": 6,
     "metadata": {},
     "output_type": "execute_result"
    }
   ],
   "source": [
    "welcome()"
   ]
  },
  {
   "cell_type": "code",
   "execution_count": 7,
   "id": "fd9f3845",
   "metadata": {},
   "outputs": [
    {
     "name": "stdout",
     "output_type": "stream",
     "text": [
      "Welcome to my you tube channel\n"
     ]
    }
   ],
   "source": [
    "print(welcome())"
   ]
  },
  {
   "cell_type": "code",
   "execution_count": 11,
   "id": "c428e00c",
   "metadata": {},
   "outputs": [],
   "source": [
    "class car:\n",
    "    pass\n",
    "car1=car()\n",
    "car2=car()\n",
    "car1.windos=4\n",
    "car1.glass=4\n",
    "car1.engine=\"Diesel\"\n",
    "\n",
    "\n",
    "\n",
    "car2.windos=6\n",
    "car2.tyres=6\n",
    "car2.engine=\"Petrol\"\n"
   ]
  },
  {
   "cell_type": "code",
   "execution_count": 12,
   "id": "28213656",
   "metadata": {},
   "outputs": [
    {
     "name": "stdout",
     "output_type": "stream",
     "text": [
      "Diesel\n",
      "Petrol\n"
     ]
    }
   ],
   "source": [
    "print(car1.engine)\n",
    "print(car2.engine)"
   ]
  },
  {
   "cell_type": "code",
   "execution_count": 13,
   "id": "2c27d010",
   "metadata": {},
   "outputs": [],
   "source": [
    "class car:\n",
    "    pass\n",
    "car1=car()\n",
    "car2=car()\n",
    "car1.windos=4\n",
    "car1.glass=4\n",
    "car1.engine=\"Diesel\"\n",
    "\n",
    "\n",
    "\n",
    "car2.windos=6\n",
    "car2.tyres=6\n",
    "car2.engine=\"Petrol\"\n"
   ]
  },
  {
   "cell_type": "code",
   "execution_count": 14,
   "id": "5c842798",
   "metadata": {},
   "outputs": [
    {
     "name": "stdout",
     "output_type": "stream",
     "text": [
      "4\n",
      "6\n"
     ]
    }
   ],
   "source": [
    "print(car1.windos)\n",
    "print(car2.windos)"
   ]
  },
  {
   "cell_type": "code",
   "execution_count": 15,
   "id": "4b530921",
   "metadata": {},
   "outputs": [
    {
     "name": "stdout",
     "output_type": "stream",
     "text": [
      "['__class__', '__delattr__', '__dict__', '__dir__', '__doc__', '__eq__', '__format__', '__ge__', '__getattribute__', '__gt__', '__hash__', '__init__', '__init_subclass__', '__le__', '__lt__', '__module__', '__ne__', '__new__', '__reduce__', '__reduce_ex__', '__repr__', '__setattr__', '__sizeof__', '__str__', '__subclasshook__', '__weakref__', 'engine', 'glass', 'windos']\n"
     ]
    }
   ],
   "source": [
    "print(dir(car1))"
   ]
  },
  {
   "cell_type": "code",
   "execution_count": 17,
   "id": "8aeb3a03",
   "metadata": {},
   "outputs": [],
   "source": [
    "class car:\n",
    "    def __init__(self,windos,tyres,engine):\n",
    "        self.windos=windos\n",
    "        self.tyres=tyres\n",
    "        self.engine=engine\n",
    "    car1=car(4,4,\"petrol\")"
   ]
  },
  {
   "cell_type": "code",
   "execution_count": 3,
   "id": "6f549911",
   "metadata": {},
   "outputs": [
    {
     "ename": "SyntaxError",
     "evalue": "invalid syntax (<ipython-input-3-80df3ce961f7>, line 4)",
     "output_type": "error",
     "traceback": [
      "\u001b[1;36m  File \u001b[1;32m\"<ipython-input-3-80df3ce961f7>\"\u001b[1;36m, line \u001b[1;32m4\u001b[0m\n\u001b[1;33m    elif (age>=18 and age<=35):\u001b[0m\n\u001b[1;37m    ^\u001b[0m\n\u001b[1;31mSyntaxError\u001b[0m\u001b[1;31m:\u001b[0m invalid syntax\n"
     ]
    }
   ],
   "source": [
    "age=float(input(\"enter the age\"))\n",
    "if (age<18):\n",
    "    print(\"minor age\")\n",
    "    elif (age>=18 and age<=35):\n",
    "        print(\"Mid Age\")"
   ]
  },
  {
   "cell_type": "code",
   "execution_count": 4,
   "id": "4438cd1c",
   "metadata": {},
   "outputs": [
    {
     "name": "stdout",
     "output_type": "stream",
     "text": [
      "1\n",
      "3\n",
      "5\n",
      "6\n",
      "7\n",
      "8\n",
      "9\n"
     ]
    }
   ],
   "source": [
    "lst=[1,3,5,6,7,8,9]\n",
    "for i in lst:\n",
    "    print(i)"
   ]
  },
  {
   "cell_type": "code",
   "execution_count": 5,
   "id": "7be89d40",
   "metadata": {},
   "outputs": [
    {
     "name": "stdout",
     "output_type": "stream",
     "text": [
      "1\n",
      "4\n",
      "9\n",
      "15\n",
      "22\n",
      "30\n",
      "39\n"
     ]
    }
   ],
   "source": [
    "lst=[1,3,5,6,7,8,9]\n",
    "sum1=0\n",
    "for i in lst:\n",
    "    sum1=sum1+i\n",
    "    \n",
    "    print(sum1)"
   ]
  },
  {
   "cell_type": "code",
   "execution_count": 6,
   "id": "ab8e1307",
   "metadata": {},
   "outputs": [
    {
     "name": "stdout",
     "output_type": "stream",
     "text": [
      "Even sum is176\n",
      "odd sum is279\n"
     ]
    }
   ],
   "source": [
    "lst1=[12,53,63,85,25,22,53,52,42,48]\n",
    "even_sum=0\n",
    "odd_sum=0\n",
    "\n",
    "for i in lst1:\n",
    "    if(i%2==0):\n",
    "        even_sum=even_sum+i\n",
    "    else:\n",
    "        odd_sum=odd_sum+i\n",
    "        \n",
    "print(\"Even sum is{}\".format(even_sum))\n",
    "print(\"odd sum is{}\".format(odd_sum))"
   ]
  },
  {
   "cell_type": "code",
   "execution_count": 7,
   "id": "5f926b13",
   "metadata": {},
   "outputs": [
    {
     "name": "stdout",
     "output_type": "stream",
     "text": [
      "Even sum is28\n",
      "odd sum is86\n"
     ]
    }
   ],
   "source": [
    "lst1=[2,3,6,8,25,2,53,5,2,8]\n",
    "even_sum=0\n",
    "odd_sum=0\n",
    "\n",
    "for i in lst1:\n",
    "    if(i%2==0):\n",
    "        even_sum=even_sum+i\n",
    "    else:\n",
    "        odd_sum=odd_sum+i\n",
    "        \n",
    "print(\"Even sum is{}\".format(even_sum))\n",
    "print(\"odd sum is{}\".format(odd_sum))"
   ]
  },
  {
   "cell_type": "code",
   "execution_count": null,
   "id": "2a1f3d32",
   "metadata": {},
   "outputs": [],
   "source": [
    "i=1\n",
    "while(i<=10):\n",
    " print(i)\n",
    "i=i+1"
   ]
  },
  {
   "cell_type": "code",
   "execution_count": null,
   "id": "b1eb7bb2",
   "metadata": {},
   "outputs": [],
   "source": []
  }
 ],
 "metadata": {
  "kernelspec": {
   "display_name": "Python 3",
   "language": "python",
   "name": "python3"
  },
  "language_info": {
   "codemirror_mode": {
    "name": "ipython",
    "version": 3
   },
   "file_extension": ".py",
   "mimetype": "text/x-python",
   "name": "python",
   "nbconvert_exporter": "python",
   "pygments_lexer": "ipython3",
   "version": "3.8.8"
  }
 },
 "nbformat": 4,
 "nbformat_minor": 5
}
