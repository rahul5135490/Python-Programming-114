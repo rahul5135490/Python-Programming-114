{
 "cells": [
  {
   "cell_type": "code",
   "execution_count": 1,
   "id": "94be7a59-9073-427e-a0ec-b5820961f934",
   "metadata": {},
   "outputs": [],
   "source": [
    "import pandas as pd"
   ]
  },
  {
   "cell_type": "code",
   "execution_count": 4,
   "id": "19760516-4b08-4310-88f3-341bd1f60a24",
   "metadata": {},
   "outputs": [
    {
     "name": "stdin",
     "output_type": "stream",
     "text": [
      "enter the number a:  10\n",
      "enter the number b:  0\n"
     ]
    },
    {
     "name": "stdout",
     "output_type": "stream",
     "text": [
      "cannot divide it with zero\n",
      "Rahul\n"
     ]
    }
   ],
   "source": [
    "a=int(input(\"enter the number a: \"))\n",
    "b=int(input(\"enter the number b: \"))\n",
    "try:\n",
    "    c=a/b\n",
    "    print(\"result\",c)\n",
    "except:\n",
    "    print(\"cannot divide it with zero\")\n",
    "print(\"Rahul\")\n",
    "\n"
   ]
  },
  {
   "cell_type": "code",
   "execution_count": null,
   "id": "fcc37d64-a0cd-4bdf-b3bf-dfedc75ab9f8",
   "metadata": {},
   "outputs": [],
   "source": []
  }
 ],
 "metadata": {
  "kernelspec": {
   "display_name": "Python 3 (ipykernel)",
   "language": "python",
   "name": "python3"
  },
  "language_info": {
   "codemirror_mode": {
    "name": "ipython",
    "version": 3
   },
   "file_extension": ".py",
   "mimetype": "text/x-python",
   "name": "python",
   "nbconvert_exporter": "python",
   "pygments_lexer": "ipython3",
   "version": "3.11.5"
  }
 },
 "nbformat": 4,
 "nbformat_minor": 5
}
